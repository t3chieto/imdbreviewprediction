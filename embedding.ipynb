{
 "cells": [
  {
   "cell_type": "code",
   "execution_count": 66,
   "id": "33f57a3f",
   "metadata": {},
   "outputs": [],
   "source": [
    "from tensorflow.keras.preprocessing.text import one_hot\n"
   ]
  },
  {
   "cell_type": "code",
   "execution_count": 67,
   "id": "1b475c19",
   "metadata": {},
   "outputs": [],
   "source": [
    "### sentences\n",
    "sent = ['the glass of milk',\n",
    "        'the glass of juice',\n",
    "        'I am a good boy',\n",
    "        'I am a good developer',\n",
    "        'understand the meaning of words',\n",
    "        'your videos are good'\n",
    "        ]"
   ]
  },
  {
   "cell_type": "code",
   "execution_count": 68,
   "id": "a727417f",
   "metadata": {},
   "outputs": [],
   "source": [
    "## Define the vocabulary size\n",
    "voc_size=10000"
   ]
  },
  {
   "cell_type": "code",
   "execution_count": 69,
   "id": "c8c81803",
   "metadata": {},
   "outputs": [
    {
     "data": {
      "text/plain": [
       "[[2419, 9069, 6372, 8389],\n",
       " [2419, 9069, 6372, 7592],\n",
       " [9114, 5776, 6753, 1302, 7753],\n",
       " [9114, 5776, 6753, 1302, 4902],\n",
       " [5364, 2419, 1445, 6372, 1326],\n",
       " [1890, 1604, 7626, 1302]]"
      ]
     },
     "execution_count": 69,
     "metadata": {},
     "output_type": "execute_result"
    }
   ],
   "source": [
    "### One Hot Representation\n",
    "one_hot_repr = [one_hot(words,voc_size) for words in sent]\n",
    "one_hot_repr"
   ]
  },
  {
   "cell_type": "code",
   "execution_count": 70,
   "id": "b2b93d01",
   "metadata": {},
   "outputs": [],
   "source": [
    "## Word Embedding Representation\n",
    "from tensorflow.keras.layers import Embedding\n",
    "from tensorflow.keras.preprocessing.sequence import pad_sequences\n",
    "# from tensorflow.keras.utils import pad_sequences\n",
    "from tensorflow.keras.models import Sequential\n",
    "import numpy as np"
   ]
  },
  {
   "cell_type": "code",
   "execution_count": 71,
   "id": "892422cd",
   "metadata": {},
   "outputs": [
    {
     "name": "stdout",
     "output_type": "stream",
     "text": [
      "[[   0    0    0    0 2419 9069 6372 8389]\n",
      " [   0    0    0    0 2419 9069 6372 7592]\n",
      " [   0    0    0 9114 5776 6753 1302 7753]\n",
      " [   0    0    0 9114 5776 6753 1302 4902]\n",
      " [   0    0    0 5364 2419 1445 6372 1326]\n",
      " [   0    0    0    0 1890 1604 7626 1302]]\n"
     ]
    }
   ],
   "source": [
    "sent_length = 8\n",
    "embeded_docs = pad_sequences(one_hot_repr,padding='pre',maxlen=sent_length)\n",
    "print(embeded_docs)"
   ]
  },
  {
   "cell_type": "code",
   "execution_count": 72,
   "id": "d18d2f8b",
   "metadata": {},
   "outputs": [],
   "source": [
    "## Feature representation\n",
    "dim=10\n"
   ]
  },
  {
   "cell_type": "code",
   "execution_count": null,
   "id": "a4b52322",
   "metadata": {},
   "outputs": [
    {
     "name": "stderr",
     "output_type": "stream",
     "text": [
      "c:\\Users\\sharma011\\Documents\\aiml\\code\\Learning Project With Simple RNN\\venv\\Lib\\site-packages\\keras\\src\\layers\\core\\embedding.py:97: UserWarning: Argument `input_length` is deprecated. Just remove it.\n",
      "  warnings.warn(\n"
     ]
    }
   ],
   "source": [
    "model = Sequential()\n",
    "model.add(Embedding(voc_size,dim,input_length=sent_length))\n",
    "model.compile('adam','mse')\n"
   ]
  },
  {
   "cell_type": "code",
   "execution_count": 74,
   "id": "0ff3e650",
   "metadata": {},
   "outputs": [
    {
     "data": {
      "text/html": [
       "<pre style=\"white-space:pre;overflow-x:auto;line-height:normal;font-family:Menlo,'DejaVu Sans Mono',consolas,'Courier New',monospace\"><span style=\"font-weight: bold\">Model: \"sequential_2\"</span>\n",
       "</pre>\n"
      ],
      "text/plain": [
       "\u001b[1mModel: \"sequential_2\"\u001b[0m\n"
      ]
     },
     "metadata": {},
     "output_type": "display_data"
    },
    {
     "data": {
      "text/html": [
       "<pre style=\"white-space:pre;overflow-x:auto;line-height:normal;font-family:Menlo,'DejaVu Sans Mono',consolas,'Courier New',monospace\">┏━━━━━━━━━━━━━━━━━━━━━━━━━━━━━━━━━┳━━━━━━━━━━━━━━━━━━━━━━━━┳━━━━━━━━━━━━━━━┓\n",
       "┃<span style=\"font-weight: bold\"> Layer (type)                    </span>┃<span style=\"font-weight: bold\"> Output Shape           </span>┃<span style=\"font-weight: bold\">       Param # </span>┃\n",
       "┡━━━━━━━━━━━━━━━━━━━━━━━━━━━━━━━━━╇━━━━━━━━━━━━━━━━━━━━━━━━╇━━━━━━━━━━━━━━━┩\n",
       "│ embedding_2 (<span style=\"color: #0087ff; text-decoration-color: #0087ff\">Embedding</span>)         │ ?                      │   <span style=\"color: #00af00; text-decoration-color: #00af00\">0</span> (unbuilt) │\n",
       "└─────────────────────────────────┴────────────────────────┴───────────────┘\n",
       "</pre>\n"
      ],
      "text/plain": [
       "┏━━━━━━━━━━━━━━━━━━━━━━━━━━━━━━━━━┳━━━━━━━━━━━━━━━━━━━━━━━━┳━━━━━━━━━━━━━━━┓\n",
       "┃\u001b[1m \u001b[0m\u001b[1mLayer (type)                   \u001b[0m\u001b[1m \u001b[0m┃\u001b[1m \u001b[0m\u001b[1mOutput Shape          \u001b[0m\u001b[1m \u001b[0m┃\u001b[1m \u001b[0m\u001b[1m      Param #\u001b[0m\u001b[1m \u001b[0m┃\n",
       "┡━━━━━━━━━━━━━━━━━━━━━━━━━━━━━━━━━╇━━━━━━━━━━━━━━━━━━━━━━━━╇━━━━━━━━━━━━━━━┩\n",
       "│ embedding_2 (\u001b[38;5;33mEmbedding\u001b[0m)         │ ?                      │   \u001b[38;5;34m0\u001b[0m (unbuilt) │\n",
       "└─────────────────────────────────┴────────────────────────┴───────────────┘\n"
      ]
     },
     "metadata": {},
     "output_type": "display_data"
    },
    {
     "data": {
      "text/html": [
       "<pre style=\"white-space:pre;overflow-x:auto;line-height:normal;font-family:Menlo,'DejaVu Sans Mono',consolas,'Courier New',monospace\"><span style=\"font-weight: bold\"> Total params: </span><span style=\"color: #00af00; text-decoration-color: #00af00\">0</span> (0.00 B)\n",
       "</pre>\n"
      ],
      "text/plain": [
       "\u001b[1m Total params: \u001b[0m\u001b[38;5;34m0\u001b[0m (0.00 B)\n"
      ]
     },
     "metadata": {},
     "output_type": "display_data"
    },
    {
     "data": {
      "text/html": [
       "<pre style=\"white-space:pre;overflow-x:auto;line-height:normal;font-family:Menlo,'DejaVu Sans Mono',consolas,'Courier New',monospace\"><span style=\"font-weight: bold\"> Trainable params: </span><span style=\"color: #00af00; text-decoration-color: #00af00\">0</span> (0.00 B)\n",
       "</pre>\n"
      ],
      "text/plain": [
       "\u001b[1m Trainable params: \u001b[0m\u001b[38;5;34m0\u001b[0m (0.00 B)\n"
      ]
     },
     "metadata": {},
     "output_type": "display_data"
    },
    {
     "data": {
      "text/html": [
       "<pre style=\"white-space:pre;overflow-x:auto;line-height:normal;font-family:Menlo,'DejaVu Sans Mono',consolas,'Courier New',monospace\"><span style=\"font-weight: bold\"> Non-trainable params: </span><span style=\"color: #00af00; text-decoration-color: #00af00\">0</span> (0.00 B)\n",
       "</pre>\n"
      ],
      "text/plain": [
       "\u001b[1m Non-trainable params: \u001b[0m\u001b[38;5;34m0\u001b[0m (0.00 B)\n"
      ]
     },
     "metadata": {},
     "output_type": "display_data"
    }
   ],
   "source": [
    "model.summary()"
   ]
  },
  {
   "cell_type": "code",
   "execution_count": 75,
   "id": "d9918b02",
   "metadata": {},
   "outputs": [
    {
     "name": "stdout",
     "output_type": "stream",
     "text": [
      "\u001b[1m1/1\u001b[0m \u001b[32m━━━━━━━━━━━━━━━━━━━━\u001b[0m\u001b[37m\u001b[0m \u001b[1m0s\u001b[0m 284ms/step\n"
     ]
    },
    {
     "data": {
      "text/plain": [
       "array([[[ 0.00249463, -0.04384119, -0.04709532, -0.03626442,\n",
       "          0.0214396 ,  0.00717098, -0.02909855, -0.02460796,\n",
       "          0.01534953, -0.02005924],\n",
       "        [ 0.00249463, -0.04384119, -0.04709532, -0.03626442,\n",
       "          0.0214396 ,  0.00717098, -0.02909855, -0.02460796,\n",
       "          0.01534953, -0.02005924],\n",
       "        [ 0.00249463, -0.04384119, -0.04709532, -0.03626442,\n",
       "          0.0214396 ,  0.00717098, -0.02909855, -0.02460796,\n",
       "          0.01534953, -0.02005924],\n",
       "        [ 0.00249463, -0.04384119, -0.04709532, -0.03626442,\n",
       "          0.0214396 ,  0.00717098, -0.02909855, -0.02460796,\n",
       "          0.01534953, -0.02005924],\n",
       "        [-0.01223568, -0.0013295 , -0.04822529,  0.01330725,\n",
       "          0.02197341, -0.01885525,  0.0277651 ,  0.04469519,\n",
       "          0.01926542, -0.03362633],\n",
       "        [-0.02537831, -0.00471453, -0.03736019, -0.041957  ,\n",
       "         -0.04171882,  0.03541479, -0.02805376, -0.01327121,\n",
       "         -0.01936403,  0.02259754],\n",
       "        [-0.0477312 ,  0.02938446, -0.043973  , -0.01524248,\n",
       "         -0.03076552, -0.03532432, -0.02278342,  0.02681787,\n",
       "         -0.00515527, -0.02552103],\n",
       "        [ 0.00980111,  0.03772238,  0.02054029, -0.0119976 ,\n",
       "          0.01365863,  0.04975971,  0.02047311,  0.02707087,\n",
       "         -0.0356177 ,  0.03104937]],\n",
       "\n",
       "       [[ 0.00249463, -0.04384119, -0.04709532, -0.03626442,\n",
       "          0.0214396 ,  0.00717098, -0.02909855, -0.02460796,\n",
       "          0.01534953, -0.02005924],\n",
       "        [ 0.00249463, -0.04384119, -0.04709532, -0.03626442,\n",
       "          0.0214396 ,  0.00717098, -0.02909855, -0.02460796,\n",
       "          0.01534953, -0.02005924],\n",
       "        [ 0.00249463, -0.04384119, -0.04709532, -0.03626442,\n",
       "          0.0214396 ,  0.00717098, -0.02909855, -0.02460796,\n",
       "          0.01534953, -0.02005924],\n",
       "        [ 0.00249463, -0.04384119, -0.04709532, -0.03626442,\n",
       "          0.0214396 ,  0.00717098, -0.02909855, -0.02460796,\n",
       "          0.01534953, -0.02005924],\n",
       "        [-0.01223568, -0.0013295 , -0.04822529,  0.01330725,\n",
       "          0.02197341, -0.01885525,  0.0277651 ,  0.04469519,\n",
       "          0.01926542, -0.03362633],\n",
       "        [-0.02537831, -0.00471453, -0.03736019, -0.041957  ,\n",
       "         -0.04171882,  0.03541479, -0.02805376, -0.01327121,\n",
       "         -0.01936403,  0.02259754],\n",
       "        [-0.0477312 ,  0.02938446, -0.043973  , -0.01524248,\n",
       "         -0.03076552, -0.03532432, -0.02278342,  0.02681787,\n",
       "         -0.00515527, -0.02552103],\n",
       "        [-0.03078582,  0.00331085, -0.0037619 , -0.04614512,\n",
       "          0.00749904,  0.01521054, -0.00634625,  0.04503114,\n",
       "         -0.00101139, -0.03749434]],\n",
       "\n",
       "       [[ 0.00249463, -0.04384119, -0.04709532, -0.03626442,\n",
       "          0.0214396 ,  0.00717098, -0.02909855, -0.02460796,\n",
       "          0.01534953, -0.02005924],\n",
       "        [ 0.00249463, -0.04384119, -0.04709532, -0.03626442,\n",
       "          0.0214396 ,  0.00717098, -0.02909855, -0.02460796,\n",
       "          0.01534953, -0.02005924],\n",
       "        [ 0.00249463, -0.04384119, -0.04709532, -0.03626442,\n",
       "          0.0214396 ,  0.00717098, -0.02909855, -0.02460796,\n",
       "          0.01534953, -0.02005924],\n",
       "        [-0.00761999,  0.00559845,  0.02300451, -0.02739598,\n",
       "          0.01040584, -0.00273727, -0.04856081, -0.03667495,\n",
       "         -0.02845775,  0.04891266],\n",
       "        [ 0.03500435, -0.0004826 ,  0.04542564,  0.0171206 ,\n",
       "         -0.01542953,  0.00808726, -0.01958512, -0.00471172,\n",
       "          0.02859043, -0.0391747 ],\n",
       "        [-0.03155033,  0.0119742 , -0.03783919,  0.04947733,\n",
       "         -0.0358786 , -0.04363966, -0.04282079,  0.031276  ,\n",
       "          0.04169785,  0.03008504],\n",
       "        [-0.02493187, -0.01023082,  0.03836808, -0.04202869,\n",
       "         -0.02828526,  0.01315078, -0.0229748 , -0.02967548,\n",
       "         -0.04877266, -0.00012326],\n",
       "        [-0.01919323, -0.00554336,  0.01292003, -0.04203111,\n",
       "          0.02335246, -0.00572516,  0.00190098,  0.0246455 ,\n",
       "         -0.04729604,  0.00722066]],\n",
       "\n",
       "       [[ 0.00249463, -0.04384119, -0.04709532, -0.03626442,\n",
       "          0.0214396 ,  0.00717098, -0.02909855, -0.02460796,\n",
       "          0.01534953, -0.02005924],\n",
       "        [ 0.00249463, -0.04384119, -0.04709532, -0.03626442,\n",
       "          0.0214396 ,  0.00717098, -0.02909855, -0.02460796,\n",
       "          0.01534953, -0.02005924],\n",
       "        [ 0.00249463, -0.04384119, -0.04709532, -0.03626442,\n",
       "          0.0214396 ,  0.00717098, -0.02909855, -0.02460796,\n",
       "          0.01534953, -0.02005924],\n",
       "        [-0.00761999,  0.00559845,  0.02300451, -0.02739598,\n",
       "          0.01040584, -0.00273727, -0.04856081, -0.03667495,\n",
       "         -0.02845775,  0.04891266],\n",
       "        [ 0.03500435, -0.0004826 ,  0.04542564,  0.0171206 ,\n",
       "         -0.01542953,  0.00808726, -0.01958512, -0.00471172,\n",
       "          0.02859043, -0.0391747 ],\n",
       "        [-0.03155033,  0.0119742 , -0.03783919,  0.04947733,\n",
       "         -0.0358786 , -0.04363966, -0.04282079,  0.031276  ,\n",
       "          0.04169785,  0.03008504],\n",
       "        [-0.02493187, -0.01023082,  0.03836808, -0.04202869,\n",
       "         -0.02828526,  0.01315078, -0.0229748 , -0.02967548,\n",
       "         -0.04877266, -0.00012326],\n",
       "        [ 0.01184976, -0.04125409,  0.02415482,  0.03514664,\n",
       "         -0.03816401,  0.04455557,  0.03467124, -0.03704418,\n",
       "         -0.00156442, -0.00172836]],\n",
       "\n",
       "       [[ 0.00249463, -0.04384119, -0.04709532, -0.03626442,\n",
       "          0.0214396 ,  0.00717098, -0.02909855, -0.02460796,\n",
       "          0.01534953, -0.02005924],\n",
       "        [ 0.00249463, -0.04384119, -0.04709532, -0.03626442,\n",
       "          0.0214396 ,  0.00717098, -0.02909855, -0.02460796,\n",
       "          0.01534953, -0.02005924],\n",
       "        [ 0.00249463, -0.04384119, -0.04709532, -0.03626442,\n",
       "          0.0214396 ,  0.00717098, -0.02909855, -0.02460796,\n",
       "          0.01534953, -0.02005924],\n",
       "        [ 0.04030569,  0.00292792, -0.04937097, -0.04864195,\n",
       "          0.04905461, -0.02818911,  0.02627239, -0.02480388,\n",
       "          0.04465296, -0.01618125],\n",
       "        [-0.01223568, -0.0013295 , -0.04822529,  0.01330725,\n",
       "          0.02197341, -0.01885525,  0.0277651 ,  0.04469519,\n",
       "          0.01926542, -0.03362633],\n",
       "        [ 0.03159523, -0.00508888, -0.04287467, -0.02039366,\n",
       "         -0.0374956 , -0.03730862, -0.02659478, -0.03023279,\n",
       "         -0.0321565 , -0.01789532],\n",
       "        [-0.0477312 ,  0.02938446, -0.043973  , -0.01524248,\n",
       "         -0.03076552, -0.03532432, -0.02278342,  0.02681787,\n",
       "         -0.00515527, -0.02552103],\n",
       "        [ 0.00245085,  0.02180337, -0.03194358, -0.02199872,\n",
       "          0.01577939, -0.0299017 ,  0.01162381, -0.00248374,\n",
       "         -0.0076015 ,  0.02786231]],\n",
       "\n",
       "       [[ 0.00249463, -0.04384119, -0.04709532, -0.03626442,\n",
       "          0.0214396 ,  0.00717098, -0.02909855, -0.02460796,\n",
       "          0.01534953, -0.02005924],\n",
       "        [ 0.00249463, -0.04384119, -0.04709532, -0.03626442,\n",
       "          0.0214396 ,  0.00717098, -0.02909855, -0.02460796,\n",
       "          0.01534953, -0.02005924],\n",
       "        [ 0.00249463, -0.04384119, -0.04709532, -0.03626442,\n",
       "          0.0214396 ,  0.00717098, -0.02909855, -0.02460796,\n",
       "          0.01534953, -0.02005924],\n",
       "        [ 0.00249463, -0.04384119, -0.04709532, -0.03626442,\n",
       "          0.0214396 ,  0.00717098, -0.02909855, -0.02460796,\n",
       "          0.01534953, -0.02005924],\n",
       "        [-0.03616039,  0.02365413,  0.04247364,  0.04961241,\n",
       "          0.02923742,  0.01759657,  0.01378112,  0.01112151,\n",
       "          0.03981478,  0.00961411],\n",
       "        [-0.04031254, -0.04876082,  0.01973912,  0.02323507,\n",
       "          0.04780635,  0.03369281, -0.03198151, -0.00270309,\n",
       "          0.00286198,  0.01964668],\n",
       "        [-0.01494776, -0.00165032,  0.02801803,  0.0082595 ,\n",
       "         -0.03251993,  0.00074642,  0.03557898,  0.02201407,\n",
       "          0.0086509 , -0.01895279],\n",
       "        [-0.02493187, -0.01023082,  0.03836808, -0.04202869,\n",
       "         -0.02828526,  0.01315078, -0.0229748 , -0.02967548,\n",
       "         -0.04877266, -0.00012326]]], dtype=float32)"
      ]
     },
     "execution_count": 75,
     "metadata": {},
     "output_type": "execute_result"
    }
   ],
   "source": [
    "model.predict(embeded_docs)"
   ]
  },
  {
   "cell_type": "code",
   "execution_count": 76,
   "id": "71fe1b20",
   "metadata": {},
   "outputs": [
    {
     "data": {
      "text/plain": [
       "array([   0,    0,    0,    0, 2419, 9069, 6372, 8389], dtype=int32)"
      ]
     },
     "execution_count": 76,
     "metadata": {},
     "output_type": "execute_result"
    }
   ],
   "source": [
    "embeded_docs[0]"
   ]
  },
  {
   "cell_type": "code",
   "execution_count": 77,
   "id": "3a66297a",
   "metadata": {},
   "outputs": [
    {
     "ename": "ValueError",
     "evalue": "Exception encountered when calling Sequential.call().\n\n\u001b[1mCannot take the length of shape with unknown rank.\u001b[0m\n\nArguments received by Sequential.call():\n  • inputs=tf.Tensor(shape=<unknown>, dtype=int32)\n  • training=False\n  • mask=None\n  • kwargs=<class 'inspect._empty'>",
     "output_type": "error",
     "traceback": [
      "\u001b[31m---------------------------------------------------------------------------\u001b[39m",
      "\u001b[31mValueError\u001b[39m                                Traceback (most recent call last)",
      "\u001b[36mCell\u001b[39m\u001b[36m \u001b[39m\u001b[32mIn[77]\u001b[39m\u001b[32m, line 1\u001b[39m\n\u001b[32m----> \u001b[39m\u001b[32m1\u001b[39m \u001b[43mmodel\u001b[49m\u001b[43m.\u001b[49m\u001b[43mpredict\u001b[49m\u001b[43m(\u001b[49m\u001b[43membeded_docs\u001b[49m\u001b[43m[\u001b[49m\u001b[32;43m0\u001b[39;49m\u001b[43m]\u001b[49m\u001b[43m)\u001b[49m\n",
      "\u001b[36mFile \u001b[39m\u001b[32mc:\\Users\\sharma011\\Documents\\aiml\\code\\Learning Project With Simple RNN\\venv\\Lib\\site-packages\\keras\\src\\utils\\traceback_utils.py:122\u001b[39m, in \u001b[36mfilter_traceback.<locals>.error_handler\u001b[39m\u001b[34m(*args, **kwargs)\u001b[39m\n\u001b[32m    119\u001b[39m     filtered_tb = _process_traceback_frames(e.__traceback__)\n\u001b[32m    120\u001b[39m     \u001b[38;5;66;03m# To get the full stack trace, call:\u001b[39;00m\n\u001b[32m    121\u001b[39m     \u001b[38;5;66;03m# `keras.config.disable_traceback_filtering()`\u001b[39;00m\n\u001b[32m--> \u001b[39m\u001b[32m122\u001b[39m     \u001b[38;5;28;01mraise\u001b[39;00m e.with_traceback(filtered_tb) \u001b[38;5;28;01mfrom\u001b[39;00m\u001b[38;5;250m \u001b[39m\u001b[38;5;28;01mNone\u001b[39;00m\n\u001b[32m    123\u001b[39m \u001b[38;5;28;01mfinally\u001b[39;00m:\n\u001b[32m    124\u001b[39m     \u001b[38;5;28;01mdel\u001b[39;00m filtered_tb\n",
      "\u001b[36mFile \u001b[39m\u001b[32mc:\\Users\\sharma011\\Documents\\aiml\\code\\Learning Project With Simple RNN\\venv\\Lib\\site-packages\\keras\\src\\utils\\traceback_utils.py:122\u001b[39m, in \u001b[36mfilter_traceback.<locals>.error_handler\u001b[39m\u001b[34m(*args, **kwargs)\u001b[39m\n\u001b[32m    119\u001b[39m     filtered_tb = _process_traceback_frames(e.__traceback__)\n\u001b[32m    120\u001b[39m     \u001b[38;5;66;03m# To get the full stack trace, call:\u001b[39;00m\n\u001b[32m    121\u001b[39m     \u001b[38;5;66;03m# `keras.config.disable_traceback_filtering()`\u001b[39;00m\n\u001b[32m--> \u001b[39m\u001b[32m122\u001b[39m     \u001b[38;5;28;01mraise\u001b[39;00m e.with_traceback(filtered_tb) \u001b[38;5;28;01mfrom\u001b[39;00m\u001b[38;5;250m \u001b[39m\u001b[38;5;28;01mNone\u001b[39;00m\n\u001b[32m    123\u001b[39m \u001b[38;5;28;01mfinally\u001b[39;00m:\n\u001b[32m    124\u001b[39m     \u001b[38;5;28;01mdel\u001b[39;00m filtered_tb\n",
      "\u001b[31mValueError\u001b[39m: Exception encountered when calling Sequential.call().\n\n\u001b[1mCannot take the length of shape with unknown rank.\u001b[0m\n\nArguments received by Sequential.call():\n  • inputs=tf.Tensor(shape=<unknown>, dtype=int32)\n  • training=False\n  • mask=None\n  • kwargs=<class 'inspect._empty'>"
     ]
    }
   ],
   "source": [
    "model.predict(embeded_docs[0])"
   ]
  },
  {
   "cell_type": "code",
   "execution_count": null,
   "id": "3d8c8885",
   "metadata": {},
   "outputs": [],
   "source": []
  }
 ],
 "metadata": {
  "kernelspec": {
   "display_name": "venv",
   "language": "python",
   "name": "python3"
  },
  "language_info": {
   "codemirror_mode": {
    "name": "ipython",
    "version": 3
   },
   "file_extension": ".py",
   "mimetype": "text/x-python",
   "name": "python",
   "nbconvert_exporter": "python",
   "pygments_lexer": "ipython3",
   "version": "3.12.7"
  }
 },
 "nbformat": 4,
 "nbformat_minor": 5
}
