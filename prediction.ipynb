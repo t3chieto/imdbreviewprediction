{
 "cells": [
  {
   "cell_type": "code",
   "execution_count": null,
   "id": "b107d401",
   "metadata": {},
   "outputs": [],
   "source": [
    "import numpy as np\n",
    "import tensorflow as tf\n",
    "from keras.datasets import imdb\n",
    "from keras.preprocessing import sequence\n",
    "from keras.models import load_model"
   ]
  },
  {
   "cell_type": "code",
   "execution_count": null,
   "id": "4b567936",
   "metadata": {},
   "outputs": [],
   "source": [
    "## Load the IMDB dataset word index\n",
    "word_index = imdb.get_word_index()\n",
    "reverse_word_index = {value:key for key,value in word_index.items()}"
   ]
  },
  {
   "cell_type": "code",
   "execution_count": null,
   "id": "5c030e96",
   "metadata": {},
   "outputs": [],
   "source": [
    "## Load the pre-trained model with ReLU activation\n",
    "model = load_model('model.keras')"
   ]
  },
  {
   "cell_type": "code",
   "execution_count": null,
   "id": "d65e8b8e",
   "metadata": {},
   "outputs": [],
   "source": [
    "model.summary()"
   ]
  },
  {
   "cell_type": "code",
   "execution_count": null,
   "id": "38fd5c88",
   "metadata": {},
   "outputs": [],
   "source": [
    "model.get_weights()"
   ]
  },
  {
   "cell_type": "code",
   "execution_count": null,
   "id": "c02ec4ae",
   "metadata": {},
   "outputs": [],
   "source": [
    "# Function to decode reviews\n",
    "def decode_review(encoded_review):\n",
    "    return ' '.join([reverse_word_index.get(i-3, '?') for i in encoded_review])\n",
    "\n",
    "# Function to preprocess user input\n",
    "def preprocess_text(text):\n",
    "    words = text.lower().split()\n",
    "    encoded_review = [word_index.get(word,2) +3 for word in words]\n",
    "    padded_review = sequence.pad_sequences([encoded_review],maxlen=5000)\n",
    "    return padded_review"
   ]
  },
  {
   "cell_type": "code",
   "execution_count": null,
   "id": "c5bad247",
   "metadata": {},
   "outputs": [],
   "source": [
    "### Prediction function\n",
    "def predict_sentiment(review):\n",
    "    preprocessed_input = preprocess_text(review)\n",
    "    prediction = model.predict(preprocessed_input)\n",
    "    sentiment = 'Positive' if prediction[0][0]>0.5 else 'Negative'\n",
    "    return sentiment,prediction[0][0]"
   ]
  },
  {
   "cell_type": "code",
   "execution_count": null,
   "id": "b41dd5cc",
   "metadata": {},
   "outputs": [],
   "source": [
    "# Step 4: Usr Input and Prediction\n",
    "# Example review for prediction\n",
    "example_review = \"This movie was fantastic! The acting was great and the plot was thrilling.\"\n"
   ]
  },
  {
   "cell_type": "code",
   "execution_count": null,
   "id": "04bfe37a",
   "metadata": {},
   "outputs": [],
   "source": [
    "sentiment,score = predict_sentiment(example_review)"
   ]
  },
  {
   "cell_type": "code",
   "execution_count": null,
   "id": "1163ec70",
   "metadata": {},
   "outputs": [],
   "source": [
    "sentiment"
   ]
  },
  {
   "cell_type": "code",
   "execution_count": null,
   "id": "204959d2",
   "metadata": {},
   "outputs": [],
   "source": [
    "score"
   ]
  },
  {
   "cell_type": "code",
   "execution_count": null,
   "id": "78778315",
   "metadata": {},
   "outputs": [],
   "source": []
  },
  {
   "cell_type": "code",
   "execution_count": null,
   "id": "27fc04a3",
   "metadata": {},
   "outputs": [],
   "source": []
  },
  {
   "cell_type": "code",
   "execution_count": null,
   "id": "ef80d69b",
   "metadata": {},
   "outputs": [],
   "source": []
  },
  {
   "cell_type": "code",
   "execution_count": 92,
   "id": "99210247",
   "metadata": {},
   "outputs": [
    {
     "name": "stdout",
     "output_type": "stream",
     "text": [
      "[14, 20, 16, 5, 4, 116, 16, 87, 5, 4, 114, 16, 5]\n",
      "[[  0   0   0   0   0   0   0   0   0   0   0   0   0   0   0   0   0   0\n",
      "    0   0   0   0   0   0   0   0   0   0   0   0   0   0   0   0   0   0\n",
      "    0   0   0   0   0   0   0   0   0   0   0   0   0   0   0   0   0   0\n",
      "    0   0   0   0   0   0   0   0   0   0   0   0   0   0   0   0   0   0\n",
      "    0   0   0   0   0   0   0   0   0   0   0   0   0   0   0  14  20  16\n",
      "    5   4 116  16  87   5   4 114  16   5]]\n"
     ]
    }
   ],
   "source": [
    "\n",
    "words = example_review.lower().split()\n",
    "encoded_review = [word_index.get(word,2) +3 for word in words]\n",
    "padded_review = sequence.pad_sequences([encoded_review],maxlen=100)\n",
    "print(encoded_review)\n",
    "print(padded_review)"
   ]
  },
  {
   "cell_type": "code",
   "execution_count": 85,
   "id": "40459068",
   "metadata": {},
   "outputs": [],
   "source": [
    "decoded =  ' '.join([reverse_word_index.get(i-3, '?') for i in encoded_review])\n"
   ]
  },
  {
   "cell_type": "code",
   "execution_count": 87,
   "id": "0cfa996a",
   "metadata": {},
   "outputs": [
    {
     "data": {
      "text/plain": [
       "numpy.ndarray"
      ]
     },
     "execution_count": 87,
     "metadata": {},
     "output_type": "execute_result"
    }
   ],
   "source": [
    "def preprocess_text(text):\n",
    "    words = text.lower().split()\n",
    "    encoded_review = [word_index.get(word,2) +3 for word in words]\n",
    "    padded_review = sequence.pad_sequences([encoded_review],maxlen=5000)\n",
    "    return padded_review\n",
    "\n",
    "type(preprocess_text(example_review))"
   ]
  },
  {
   "cell_type": "code",
   "execution_count": null,
   "id": "ed77164b",
   "metadata": {},
   "outputs": [],
   "source": []
  }
 ],
 "metadata": {
  "kernelspec": {
   "display_name": "venv",
   "language": "python",
   "name": "python3"
  },
  "language_info": {
   "codemirror_mode": {
    "name": "ipython",
    "version": 3
   },
   "file_extension": ".py",
   "mimetype": "text/x-python",
   "name": "python",
   "nbconvert_exporter": "python",
   "pygments_lexer": "ipython3",
   "version": "3.12.7"
  }
 },
 "nbformat": 4,
 "nbformat_minor": 5
}
